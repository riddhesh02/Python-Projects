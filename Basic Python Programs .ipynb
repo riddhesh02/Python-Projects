{
 "cells": [
  {
   "cell_type": "markdown",
   "id": "53d7206b-97bf-4112-aeea-9d8815b9b9c1",
   "metadata": {},
   "source": [
    "### 1) Python program to print \"Hello World!\"."
   ]
  },
  {
   "cell_type": "code",
   "execution_count": 1,
   "id": "e53bcc4c-c9a4-4a83-a7fb-a965b0fd846f",
   "metadata": {},
   "outputs": [
    {
     "name": "stdout",
     "output_type": "stream",
     "text": [
      "Hello World!\n"
     ]
    }
   ],
   "source": [
    "print(\"Hello World!\")"
   ]
  },
  {
   "cell_type": "markdown",
   "id": "05fb73b3-4b1e-4950-a559-7d1df4b25041",
   "metadata": {},
   "source": [
    "### 2) Python program of basic arithmetical operations: Add(+), sub(-), Mul(*) and Div(/)"
   ]
  },
  {
   "cell_type": "code",
   "execution_count": 2,
   "id": "52f39297-a834-4feb-8ad2-39f2aab30f22",
   "metadata": {},
   "outputs": [
    {
     "name": "stdin",
     "output_type": "stream",
     "text": [
      "Enter the first number:  56\n",
      "Enter the second number:  89\n"
     ]
    },
    {
     "name": "stdout",
     "output_type": "stream",
     "text": [
      "sum: 56 + 89 = 145\n"
     ]
    }
   ],
   "source": [
    "# Addition \n",
    "num_1 = int (input(\"Enter the first number: \"))\n",
    "num_2 = int (input(\"Enter the second number: \"))\n",
    "sum_of_both_num = num_1 + num_2 \n",
    "print(f\"sum: {num_1} + {num_2} = {sum_of_both_num}\")"
   ]
  },
  {
   "cell_type": "code",
   "execution_count": 3,
   "id": "32ff918c-d165-4648-ac18-e82547917031",
   "metadata": {},
   "outputs": [
    {
     "name": "stdin",
     "output_type": "stream",
     "text": [
      "Enter the first number:  34\n",
      "Enter the second number:  23\n"
     ]
    },
    {
     "name": "stdout",
     "output_type": "stream",
     "text": [
      "sub: 34 - 23 = 11\n"
     ]
    }
   ],
   "source": [
    "# Substraction \n",
    "num_1 = int (input(\"Enter the first number: \"))\n",
    "num_2 = int (input(\"Enter the second number: \"))\n",
    "sub_of_both_num = num_1 - num_2 \n",
    "print(f\"sub: {num_1} - {num_2} = {sub_of_both_num}\")"
   ]
  },
  {
   "cell_type": "code",
   "execution_count": 4,
   "id": "c4020d98-ceaa-4252-9e4b-34464236ab21",
   "metadata": {},
   "outputs": [
    {
     "name": "stdin",
     "output_type": "stream",
     "text": [
      "Enter the first num for multiplication:  45\n",
      "Enter the second num for multiplication:  8\n"
     ]
    },
    {
     "name": "stdout",
     "output_type": "stream",
     "text": [
      "Multiplication:45*8=360\n"
     ]
    }
   ],
   "source": [
    "# Multiplication\n",
    "num_1 = int(input(\"Enter the first num for multiplication: \"))\n",
    "num_2 = int(input(\"Enter the second num for multiplication: \"))\n",
    "if num_1 == 0:\n",
    "    print(\"0: Multiplication of any num by 0 is 0.\")\n",
    "else:\n",
    "    Mul_result = num_1*num_2\n",
    "    print(f\"Multiplication:{num_1}*{num_2}={Mul_result}\")"
   ]
  },
  {
   "cell_type": "code",
   "execution_count": 8,
   "id": "d7697b10-4054-4cee-a761-91a14dcd37ad",
   "metadata": {},
   "outputs": [
    {
     "name": "stdin",
     "output_type": "stream",
     "text": [
      "Enter the Dividend for division:  67\n",
      "Enter the Divisor for division:  89\n"
     ]
    },
    {
     "name": "stdout",
     "output_type": "stream",
     "text": [
      "Division:67/89=0.7528089887640449\n"
     ]
    }
   ],
   "source": [
    "# Division\n",
    "num_1 = int(input(\"Enter the Dividend for division: \"))\n",
    "num_2 = int(input(\"Enter the Divisor for division: \"))\n",
    "if num_1 == 0:\n",
    "    print(\"Error: Division by zero is not allowed.\")\n",
    "else:\n",
    "    Div_result = num_1 / num_2\n",
    "    print(f\"Division:{num_1}/{num_2}={Div_result}\")"
   ]
  },
  {
   "cell_type": "markdown",
   "id": "e146bfb4-8f34-42d5-86df-57bb2c43f3b9",
   "metadata": {},
   "source": [
    "### 3) Python program to find the area of a triangle."
   ]
  },
  {
   "cell_type": "code",
   "execution_count": 6,
   "id": "290d56eb-671d-45ba-82f8-73284c9d4dd6",
   "metadata": {},
   "outputs": [
    {
     "name": "stdin",
     "output_type": "stream",
     "text": [
      "Enter the length of the base of the triangle:  678\n",
      "Enter the height of the triangle:  467\n"
     ]
    },
    {
     "name": "stdout",
     "output_type": "stream",
     "text": [
      "The area of the triangle is:158313.0\n"
     ]
    }
   ],
   "source": [
    "# Input the base and height from the user\n",
    "base = float(input(\"Enter the length of the base of the triangle: \"))\n",
    "height = float(input(\"Enter the height of the triangle: \"))\n",
    "# Calculate the area of the triangle\n",
    "area = 0.5 * base * height\n",
    "# Display the result\n",
    "print(f\"The area of the triangle is:{area}\")"
   ]
  },
  {
   "cell_type": "markdown",
   "id": "2bebda01-c34d-43e0-8228-250d15ec459f",
   "metadata": {},
   "source": [
    "### 4) Python program to swap two variables."
   ]
  },
  {
   "cell_type": "code",
   "execution_count": 7,
   "id": "7c12bd2b-b0e5-4576-925d-0f032f90e470",
   "metadata": {},
   "outputs": [
    {
     "name": "stdin",
     "output_type": "stream",
     "text": [
      "Enter the value of the first variable (a):  67\n",
      "Enter the value of the second variable (b):  89\n"
     ]
    },
    {
     "name": "stdout",
     "output_type": "stream",
     "text": [
      "Original values: a =67, b =89\n",
      "Swapped values: a =89, b =67\n"
     ]
    }
   ],
   "source": [
    "# Input two variables\n",
    "a = input(\"Enter the value of the first variable (a): \")\n",
    "b = input(\"Enter the value of the second variable (b): \")\n",
    "# Display the original values\n",
    "print(f\"Original values: a ={a}, b ={b}\")\n",
    "# Swap the values using a temporary variable\n",
    "temp = a\n",
    "a = b\n",
    "b = temp\n",
    "# Display the swapped values\n",
    "print(f\"Swapped values: a ={a}, b ={b}\")"
   ]
  },
  {
   "cell_type": "markdown",
   "id": "52c96fe0-d536-4d9c-92fb-bfc903cbabfd",
   "metadata": {},
   "source": [
    "### 5) Python program to swap two variables without temp variable"
   ]
  },
  {
   "cell_type": "code",
   "execution_count": 12,
   "id": "79c62ff2-01ec-46a7-82a9-1e2e929af08c",
   "metadata": {},
   "outputs": [
    {
     "name": "stdout",
     "output_type": "stream",
     "text": [
      "After swapping:\n",
      "a = 10\n",
      "b = 5\n"
     ]
    }
   ],
   "source": [
    "a = 5\n",
    "b = 10\n",
    "\n",
    "# Swapping without a temporary variable\n",
    "a, b = b, a\n",
    "print(\"After swapping:\")\n",
    "print(\"a =\",a)\n",
    "print(\"b =\",b)"
   ]
  },
  {
   "cell_type": "markdown",
   "id": "ec596f19-5df7-4324-a3ee-791de5aad2e2",
   "metadata": {},
   "source": [
    "### 6) Python program to generate a random number"
   ]
  },
  {
   "cell_type": "code",
   "execution_count": 9,
   "id": "99bc5912-eeb9-4c2d-93c6-a6ee861f4bfb",
   "metadata": {},
   "outputs": [
    {
     "name": "stdout",
     "output_type": "stream",
     "text": [
      "Random number:16\n"
     ]
    }
   ],
   "source": [
    "import random\n",
    "print(f\"Random number:{random.randint(1,50)}\")"
   ]
  },
  {
   "cell_type": "markdown",
   "id": "8ed27e63-a3bf-48b5-88dd-72db85178638",
   "metadata": {},
   "source": [
    "### 7) Python program to display calendar"
   ]
  },
  {
   "cell_type": "code",
   "execution_count": 11,
   "id": "a3e92ea9-5ee3-4b07-8eb7-ba404b063a50",
   "metadata": {},
   "outputs": [
    {
     "name": "stdin",
     "output_type": "stream",
     "text": [
      "Enter year:  2002\n",
      "Enter month:  4\n"
     ]
    },
    {
     "name": "stdout",
     "output_type": "stream",
     "text": [
      "     April 2002\n",
      "Mo Tu We Th Fr Sa Su\n",
      " 1  2  3  4  5  6  7\n",
      " 8  9 10 11 12 13 14\n",
      "15 16 17 18 19 20 21\n",
      "22 23 24 25 26 27 28\n",
      "29 30\n",
      "\n"
     ]
    }
   ],
   "source": [
    "import calendar\n",
    "\n",
    "year = int(input(\"Enter year: \"))\n",
    "month = int(input(\"Enter month: \"))\n",
    "cal = calendar.month(year,month)\n",
    "print(cal)"
   ]
  },
  {
   "cell_type": "markdown",
   "id": "ecd74747-84d9-4e08-b6bd-12aacc8fbc83",
   "metadata": {},
   "source": [
    "### 8) Python Program to Check if a Number is Positive, Negative or Zero"
   ]
  },
  {
   "cell_type": "code",
   "execution_count": 15,
   "id": "07f05cf9-94b0-462b-9e54-2f0f2b3ad0e7",
   "metadata": {},
   "outputs": [
    {
     "name": "stdin",
     "output_type": "stream",
     "text": [
      "Enter a number:  67\n"
     ]
    },
    {
     "name": "stdout",
     "output_type": "stream",
     "text": [
      "Positive number\n"
     ]
    }
   ],
   "source": [
    "num = float(input(\"Enter a number: \"))\n",
    "if num > 0:\n",
    "    print(\"Positive number\")\n",
    "elif num == 0: \n",
    "  print(\"Zero\")\n",
    "else:\n",
    "    print(\"Negative number\")"
   ]
  },
  {
   "cell_type": "code",
   "execution_count": 16,
   "id": "23326b9f-7d00-4f8c-91ba-849c9087e138",
   "metadata": {},
   "outputs": [
    {
     "name": "stdin",
     "output_type": "stream",
     "text": [
      "Enter a number:  -78\n"
     ]
    },
    {
     "name": "stdout",
     "output_type": "stream",
     "text": [
      "Negative number\n"
     ]
    }
   ],
   "source": [
    "num = float(input(\"Enter a number: \"))\n",
    "if num > 0:\n",
    "    print(\"Positive number\")\n",
    "elif num == 0: \n",
    "  print(\"Zero\")\n",
    "else:\n",
    "    print(\"Negative number\")"
   ]
  },
  {
   "cell_type": "code",
   "execution_count": 17,
   "id": "77c3bde9-bade-42fd-8f08-785c7e31a2b9",
   "metadata": {},
   "outputs": [
    {
     "name": "stdin",
     "output_type": "stream",
     "text": [
      "Enter a number:  0\n"
     ]
    },
    {
     "name": "stdout",
     "output_type": "stream",
     "text": [
      "Zero\n"
     ]
    }
   ],
   "source": [
    "num = float(input(\"Enter a number: \"))\n",
    "if num > 0:\n",
    "    print(\"Positive number\")\n",
    "elif num == 0: \n",
    "  print(\"Zero\")\n",
    "else:\n",
    "    print(\"Negative number\")"
   ]
  },
  {
   "cell_type": "markdown",
   "id": "f9e87505-8cb2-4cd0-be95-2767dbcbf4b0",
   "metadata": {},
   "source": [
    "### 9) Python Program to Check if a Number is Odd or Even"
   ]
  },
  {
   "cell_type": "code",
   "execution_count": 18,
   "id": "4c57a826-2018-4a35-ad3a-d0a37a4e1589",
   "metadata": {},
   "outputs": [
    {
     "name": "stdin",
     "output_type": "stream",
     "text": [
      "Enter a number:  44\n"
     ]
    },
    {
     "name": "stdout",
     "output_type": "stream",
     "text": [
      "Yes,it's even number\n"
     ]
    }
   ],
   "source": [
    "num = int(input(\"Enter a number: \"))\n",
    "if num % 2 == 0:\n",
    "    print(\"Yes,it's even number\")\n",
    "else:\n",
    "    print(\"Yes, it's odd number\")"
   ]
  },
  {
   "cell_type": "code",
   "execution_count": 19,
   "id": "58933f9d-18cd-4e4c-a93f-c252361a4d75",
   "metadata": {},
   "outputs": [
    {
     "name": "stdin",
     "output_type": "stream",
     "text": [
      "Enter a number:  45\n"
     ]
    },
    {
     "name": "stdout",
     "output_type": "stream",
     "text": [
      "Yes, it's odd number\n"
     ]
    }
   ],
   "source": [
    "num = int(input(\"Enter a number: \"))\n",
    "if num % 2 == 0:\n",
    "    print(\"Yes,it's even number\")\n",
    "else:\n",
    "    print(\"Yes, it's odd number\")"
   ]
  },
  {
   "cell_type": "markdown",
   "id": "f5971d0b-4d82-4313-943d-3bc712f9193c",
   "metadata": {},
   "source": [
    "### 10) Python Program to Check Prime Number\n",
    "\n",
    "### Prime Number:\r\n",
    "A prime number i  whole number that cannot be evenly divided by any other numbe rexcept for 1 and itself. For example, 2, 3, 5, 7, 11, and 13 are prime numbers because the ycannot be divided by any other positive integer except for 1 and their own value."
   ]
  },
  {
   "cell_type": "code",
   "execution_count": 21,
   "id": "866774a5-fc67-4b80-b3c0-bc822da052b8",
   "metadata": {},
   "outputs": [
    {
     "name": "stdin",
     "output_type": "stream",
     "text": [
      "Enter a number:  56\n"
     ]
    },
    {
     "name": "stdout",
     "output_type": "stream",
     "text": [
      "56, is not a prime number\n"
     ]
    }
   ],
   "source": [
    "num = int(input(\"Enter a number: \"))\n",
    "# define a flag variable\n",
    "flag = False\n",
    "\n",
    "if num == 1:\n",
    "    print(f\"{num}, is not a prime number\")\n",
    "elif num > 1:\n",
    "    # check for factors\n",
    "    for i in range(2, num):\n",
    "        if(num % i) == 0:\n",
    "            flag = True # if factor is found, set flag to True\n",
    "            # break out of loop \n",
    "            break\n",
    "            \n",
    "# check if flag is True\n",
    "if flag:\n",
    "    print(f\"{num}, is not a prime number\")\n",
    "else:\n",
    "    print(f\"{num}, is a prime number\")"
   ]
  },
  {
   "cell_type": "code",
   "execution_count": null,
   "id": "be19bb00-3a02-4dd6-9629-87cb31975ebd",
   "metadata": {},
   "outputs": [],
   "source": []
  }
 ],
 "metadata": {
  "kernelspec": {
   "display_name": "Python 3 (ipykernel)",
   "language": "python",
   "name": "python3"
  },
  "language_info": {
   "codemirror_mode": {
    "name": "ipython",
    "version": 3
   },
   "file_extension": ".py",
   "mimetype": "text/x-python",
   "name": "python",
   "nbconvert_exporter": "python",
   "pygments_lexer": "ipython3",
   "version": "3.11.7"
  }
 },
 "nbformat": 4,
 "nbformat_minor": 5
}
